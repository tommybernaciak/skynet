{
 "cells": [
  {
   "cell_type": "code",
   "execution_count": 1,
   "metadata": {},
   "outputs": [
    {
     "name": "stdout",
     "output_type": "stream",
     "text": [
      "       name  size  bedrooms  bathrooms  garage_size   price\n",
      "0   house A    64       3.0        2.0          NaN  430000\n",
      "1   house B    42       2.0        1.0          1.0  260000\n",
      "2   house C    53       3.0        2.0          2.0  330000\n",
      "3   house D    42       2.0        1.0          1.0  255000\n",
      "4   house E    64       3.0        2.0          2.0  410000\n",
      "5   house F    70       4.0        3.0          2.0  450000\n",
      "6   house G    38       2.0        1.0          1.0  245000\n",
      "7   house H    55       3.0        NaN          2.0  360000\n",
      "8   house I    48       2.0        1.0          1.0  305000\n",
      "9   house J    60       3.0        2.0          2.0  390000\n",
      "10  house K    33       2.0        1.0          0.0  220000\n",
      "11  house L    58       3.0        2.0          2.0  375000\n",
      "12  house M    46       2.0        1.0          1.0  290000\n",
      "13  house N    62       3.0        2.0          2.0  400000\n",
      "14  house O    35       NaN        1.0          0.0  230000\n",
      "15  house P    51       3.0        2.0          2.0  340000\n",
      "16  house Q    45       2.0        1.0          1.0  295000\n",
      "17  house R    67       4.0        3.0          2.0  430000\n",
      "18  house S    40       2.0        1.0          1.0  255000\n",
      "19  house T    53       3.0        2.0          2.0  345000\n"
     ]
    },
    {
     "data": {
      "text/html": [
       "<div>\n",
       "<style scoped>\n",
       "    .dataframe tbody tr th:only-of-type {\n",
       "        vertical-align: middle;\n",
       "    }\n",
       "\n",
       "    .dataframe tbody tr th {\n",
       "        vertical-align: top;\n",
       "    }\n",
       "\n",
       "    .dataframe thead th {\n",
       "        text-align: right;\n",
       "    }\n",
       "</style>\n",
       "<table border=\"1\" class=\"dataframe\">\n",
       "  <thead>\n",
       "    <tr style=\"text-align: right;\">\n",
       "      <th></th>\n",
       "      <th>name</th>\n",
       "      <th>size</th>\n",
       "      <th>bedrooms</th>\n",
       "      <th>bathrooms</th>\n",
       "      <th>garage_size</th>\n",
       "      <th>price</th>\n",
       "    </tr>\n",
       "  </thead>\n",
       "  <tbody>\n",
       "    <tr>\n",
       "      <th>0</th>\n",
       "      <td>house A</td>\n",
       "      <td>64</td>\n",
       "      <td>3.0</td>\n",
       "      <td>2.0</td>\n",
       "      <td>NaN</td>\n",
       "      <td>430000</td>\n",
       "    </tr>\n",
       "    <tr>\n",
       "      <th>1</th>\n",
       "      <td>house B</td>\n",
       "      <td>42</td>\n",
       "      <td>2.0</td>\n",
       "      <td>1.0</td>\n",
       "      <td>1.0</td>\n",
       "      <td>260000</td>\n",
       "    </tr>\n",
       "    <tr>\n",
       "      <th>2</th>\n",
       "      <td>house C</td>\n",
       "      <td>53</td>\n",
       "      <td>3.0</td>\n",
       "      <td>2.0</td>\n",
       "      <td>2.0</td>\n",
       "      <td>330000</td>\n",
       "    </tr>\n",
       "    <tr>\n",
       "      <th>3</th>\n",
       "      <td>house D</td>\n",
       "      <td>42</td>\n",
       "      <td>2.0</td>\n",
       "      <td>1.0</td>\n",
       "      <td>1.0</td>\n",
       "      <td>255000</td>\n",
       "    </tr>\n",
       "    <tr>\n",
       "      <th>4</th>\n",
       "      <td>house E</td>\n",
       "      <td>64</td>\n",
       "      <td>3.0</td>\n",
       "      <td>2.0</td>\n",
       "      <td>2.0</td>\n",
       "      <td>410000</td>\n",
       "    </tr>\n",
       "  </tbody>\n",
       "</table>\n",
       "</div>"
      ],
      "text/plain": [
       "      name  size  bedrooms  bathrooms  garage_size   price\n",
       "0  house A    64       3.0        2.0          NaN  430000\n",
       "1  house B    42       2.0        1.0          1.0  260000\n",
       "2  house C    53       3.0        2.0          2.0  330000\n",
       "3  house D    42       2.0        1.0          1.0  255000\n",
       "4  house E    64       3.0        2.0          2.0  410000"
      ]
     },
     "execution_count": 1,
     "metadata": {},
     "output_type": "execute_result"
    }
   ],
   "source": [
    "import pandas\n",
    "hp = pandas.read_csv('house-prices.csv')\n",
    "print(hp)\n",
    "hp.head()"
   ]
  }
 ],
 "metadata": {
  "kernelspec": {
   "display_name": "Python 3",
   "language": "python",
   "name": "python3"
  },
  "language_info": {
   "codemirror_mode": {
    "name": "ipython",
    "version": 3
   },
   "file_extension": ".py",
   "mimetype": "text/x-python",
   "name": "python",
   "nbconvert_exporter": "python",
   "pygments_lexer": "ipython3",
   "version": "3.10.12"
  },
  "orig_nbformat": 4
 },
 "nbformat": 4,
 "nbformat_minor": 2
}
